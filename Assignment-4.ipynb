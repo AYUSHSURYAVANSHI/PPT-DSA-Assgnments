{
 "cells": [
  {
   "cell_type": "code",
   "execution_count": 16,
   "metadata": {},
   "outputs": [],
   "source": [
    "# Question 1\n",
    "# Given three integer arrays arr1, arr2 and arr3 **sorted** in **strictly increasing** order, return a sorted array of **only** the integers that appeared in **all** three arrays.\n",
    "\n",
    "# Example 1\n",
    "\n",
    "# Input: arr1 = [1,2,3,4,5], arr2 = [1,2,5,7,9], arr3 = [1,3,4,5,8]\n",
    "\n",
    "# Output: [1,5]\n",
    "\n",
    "# Explanation:** Only 1 and 5 appeared in the three arrays.\n",
    "# Answer ::-\n",
    "def find_common_elements(self,arr1, arr2, arr3):\n",
    "    set1 = set(arr1)\n",
    "    set2 = set(arr2)\n",
    "    set3 = set(arr3)\n",
    "    common_elements = set1.intersection(set2, set3)\n",
    "    result = sorted(list(common_elements))\n",
    "    return result\n"
   ]
  },
  {
   "cell_type": "code",
   "execution_count": 17,
   "metadata": {},
   "outputs": [],
   "source": [
    "# Question 2\n",
    "\n",
    "# Given two 0-indexed integer arrays nums1 and nums2, return *a list* answer *of size* 2 *where:*\n",
    "\n",
    "# - answer[0] is a list of all distinct integers in* nums1 *which are **not** present in* nums2*.*\n",
    "# - answer[1] is a list of all distinct integers in* nums2 *which are **not** present in* nums1.\n",
    "\n",
    "# Note that the integers in the lists may be returned in **any** order.\n",
    "\n",
    "# Example 1:\n",
    "\n",
    "# Input: nums1 = [1,2,3], nums2 = [2,4,6]\n",
    "\n",
    "# **Output:** [[1,3],[4,6]]\n",
    "\n",
    "# **Explanation:**\n",
    "\n",
    "# For nums1, nums1[1] = 2 is present at index 0 of nums2, whereas nums1[0] = 1 and nums1[2] = 3 are not present in nums2. Therefore, answer[0] = [1,3].\n",
    "\n",
    "# For nums2, nums2[0] = 2 is present at index 1 of nums1, whereas nums2[1] = 4 and nums2[2] = 6 are not present in nums2. Therefore, answer[1] = [4,6].\n",
    "# Answer :-\n",
    "def find_disjoint_elements(self,nums1, nums2):\n",
    "    set1 = set(nums1)\n",
    "    set2 = set(nums2)\n",
    "    distinct_nums1 = list(set1 - set2)\n",
    "    distinct_nums2 = list(set2 - set1)\n",
    "    return [distinct_nums1, distinct_nums2]\n"
   ]
  },
  {
   "cell_type": "code",
   "execution_count": 18,
   "metadata": {},
   "outputs": [],
   "source": [
    "# Question 3\n",
    "# Given a 2D integer array matrix, return *the **transpose** of* matrix.\n",
    "\n",
    "# The **transpose** of a matrix is the matrix flipped over its main diagonal, switching the matrix's row and column indices.\n",
    "\n",
    "# Example 1:\n",
    "\n",
    "# Input: matrix = [[1,2,3],[4,5,6],[7,8,9]]\n",
    "\n",
    "# Output: [[1,4,7],[2,5,8],[3,6,9]]\n",
    "# Answer :-\n",
    "def transpose(matrix):\n",
    "    rows = len(matrix)\n",
    "    cols = len(matrix[0])\n",
    "    transposed = [[0 for _ in range(rows)] for _ in range(cols)]\n",
    "    for i in range(rows):\n",
    "        for j in range(cols):\n",
    "            transposed[j][i] = matrix[i][j]\n",
    "    return transposed"
   ]
  },
  {
   "cell_type": "code",
   "execution_count": 19,
   "metadata": {},
   "outputs": [],
   "source": [
    "# Question 4\n",
    "# Given an integer array nums of 2n integers, group these integers into n pairs (a1, b1), (a2, b2), ..., (an, bn) such that the sum of min(ai, bi) for all i is **maximized**. Return *the maximized sum*.\n",
    "# Example 1:\n",
    "# Input: nums = [1,4,3,2]\n",
    "# Output: 4\n",
    "# Explanation: All possible pairings (ignoring the ordering of elements) are:\n",
    "# 1. (1, 4), (2, 3) -> min(1, 4) + min(2, 3) = 1 + 2 = 3\n",
    "# 2. (1, 3), (2, 4) -> min(1, 3) + min(2, 4) = 1 + 2 = 3\n",
    "# 3. (1, 2), (3, 4) -> min(1, 2) + min(3, 4) = 1 + 3 = 4\n",
    "# So the maximum possible sum is 4.\n",
    "# Answer:-\n",
    "def array_pair_sum(nums):\n",
    "    nums.sort()\n",
    "    total_sum = 0\n",
    "    for i in range(0, len(nums), 2):\n",
    "        total_sum += nums[i]\n",
    "    return total_sum"
   ]
  },
  {
   "cell_type": "code",
   "execution_count": 20,
   "metadata": {},
   "outputs": [],
   "source": [
    "# Question 5\n",
    "# You have n coins and you want to build a staircase with these coins. The staircase consists of k rows where the ith row has exactly i coins. The last row of the staircase **may be** incomplete.\n",
    "\n",
    "# Given the integer n, return *the number of **complete rows** of the staircase you will build*.\n",
    "# Example 1\n",
    "# Input:** n = 5\n",
    "\n",
    "# Output-2\n",
    "# Explanation - Because the 3rd row is incomplete, we return 2.\n",
    "# Answer:-\n",
    "def arrangeCoins(self, n: int) -> int:\n",
    "    k = 0\n",
    "    total = 0\n",
    "    while total <= n:\n",
    "        k += 1\n",
    "        total += k\n",
    "    return k - 1"
   ]
  },
  {
   "cell_type": "code",
   "execution_count": 21,
   "metadata": {},
   "outputs": [],
   "source": [
    "# Question 6\n",
    "# Given an integer array nums sorted in **non-decreasing** order, return *an array of **the squares of each number** sorted in non-decreasing order*.\n",
    "# Example 1:\n",
    "# Input: nums = [-4,-1,0,3,10]\n",
    "# Output: [0,1,9,16,100]\n",
    "# Explanation: After squaring, the array becomes [16,1,0,9,100].\n",
    "# After sorting, it becomes [0,1,9,16,100]\n",
    "# Answer :-\n",
    "def sortedSquares(self,nums):\n",
    "        squared_nums = []\n",
    "        for num in nums:\n",
    "            squared_nums.append(num * num)\n",
    "        squared_nums.sort()\n",
    "        return squared_nums\n",
    "\n"
   ]
  },
  {
   "cell_type": "code",
   "execution_count": 22,
   "metadata": {},
   "outputs": [],
   "source": [
    "# Question 7\n",
    "# You are given an m x n matrix M initialized with all 0's and an array of operations ops, where ops[i] = [ai, bi] means M[x][y] should be incremented by one for all 0 <= x < ai and 0 <= y < bi.\n",
    "# Count and return *the number of maximum integers in the matrix after performing all the operations*\n",
    "# Example 1:\n",
    "# Input: m = 3, n = 3, ops = [[2,2],[3,3]]\n",
    "\n",
    "# Output: 4\n",
    "\n",
    "# Explanation: The maximum integer in M is 2, and there are four of it in M. So return 4.\n",
    "def maxCount(self, m, n ,ops):\n",
    "        min_row = m\n",
    "        min_col = n\n",
    "        for op in ops:\n",
    "            min_row = min(min_row, op[0])\n",
    "            min_col = min(min_col, op[1])\n",
    "        return min_row * min_col"
   ]
  },
  {
   "cell_type": "code",
   "execution_count": 23,
   "metadata": {},
   "outputs": [],
   "source": [
    "# Question 8\n",
    "# Given the array nums consisting of 2n elements in the form [x1,x2,...,xn,y1,y2,...,yn].\n",
    "# *Return the array in the form* [x1,y1,x2,y2,...,xn,yn].\n",
    "# Example 1:\n",
    "# **Input:** nums = [2,5,1,3,4,7], n = 3\n",
    "\n",
    "# **Output:** [2,3,5,4,1,7]\n",
    "\n",
    "# **Explanation:** Since x1=2, x2=5, x3=1, y1=3, y2=4, y3=7 then the answer is [2,3,5,4,1,7].\n",
    "# Answer :-\n",
    "def shuffle(self,nums,n):\n",
    "    result = []\n",
    "    for i in range(n):\n",
    "        result.append(nums[i])\n",
    "        result.append(nums[n+i])\n",
    "    return result"
   ]
  },
  {
   "cell_type": "code",
   "execution_count": null,
   "metadata": {},
   "outputs": [],
   "source": []
  },
  {
   "cell_type": "code",
   "execution_count": null,
   "metadata": {},
   "outputs": [],
   "source": []
  },
  {
   "cell_type": "code",
   "execution_count": null,
   "metadata": {},
   "outputs": [],
   "source": []
  },
  {
   "cell_type": "code",
   "execution_count": null,
   "metadata": {},
   "outputs": [],
   "source": []
  }
 ],
 "metadata": {
  "kernelspec": {
   "display_name": "Python 3",
   "language": "python",
   "name": "python3"
  },
  "language_info": {
   "codemirror_mode": {
    "name": "ipython",
    "version": 3
   },
   "file_extension": ".py",
   "mimetype": "text/x-python",
   "name": "python",
   "nbconvert_exporter": "python",
   "pygments_lexer": "ipython3",
   "version": "3.10.11"
  },
  "orig_nbformat": 4
 },
 "nbformat": 4,
 "nbformat_minor": 2
}
